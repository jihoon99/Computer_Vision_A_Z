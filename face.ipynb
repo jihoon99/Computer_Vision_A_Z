{
  "nbformat": 4,
  "nbformat_minor": 0,
  "metadata": {
    "colab": {
      "name": "face.ipynb",
      "provenance": [],
      "collapsed_sections": [],
      "authorship_tag": "ABX9TyPmEBEBMyKrL0WqKAdihETf",
      "include_colab_link": true
    },
    "kernelspec": {
      "name": "python3",
      "display_name": "Python 3"
    }
  },
  "cells": [
    {
      "cell_type": "markdown",
      "metadata": {
        "id": "view-in-github",
        "colab_type": "text"
      },
      "source": [
        "<a href=\"https://colab.research.google.com/github/jihoon99/Computer_Vision_A_Z/blob/master/face.ipynb\" target=\"_parent\"><img src=\"https://colab.research.google.com/assets/colab-badge.svg\" alt=\"Open In Colab\"/></a>"
      ]
    },
    {
      "cell_type": "code",
      "metadata": {
        "id": "QsZSoG1pF-L_"
      },
      "source": [
        "import cv2"
      ],
      "execution_count": 2,
      "outputs": []
    },
    {
      "cell_type": "code",
      "metadata": {
        "colab": {
          "base_uri": "https://localhost:8080/",
          "height": 34
        },
        "id": "U3esAXqFGDpo",
        "outputId": "39e81e15-7f9b-4977-abac-0426161a021e"
      },
      "source": [
        "%pwd"
      ],
      "execution_count": 3,
      "outputs": [
        {
          "output_type": "execute_result",
          "data": {
            "application/vnd.google.colaboratory.intrinsic+json": {
              "type": "string"
            },
            "text/plain": [
              "'/content'"
            ]
          },
          "metadata": {
            "tags": []
          },
          "execution_count": 3
        }
      ]
    },
    {
      "cell_type": "code",
      "metadata": {
        "id": "9fcf4sdqMX59"
      },
      "source": [
        "face_casecade = cv2.CascadeClassifier('/content/drive/MyDrive/study/Computer_Vision_A_Z/Module 1 - Face Recognition/Module_1_Face_Recognition/haarcascade_frontface_default.xml')\n",
        "# import xml for the face"
      ],
      "execution_count": 4,
      "outputs": []
    },
    {
      "cell_type": "code",
      "metadata": {
        "id": "98JM3twdM_HS"
      },
      "source": [
        "eye_casecade = cv2.CascadeClassifier('/content/drive/MyDrive/study/Computer_Vision_A_Z/Module 1 - Face Recognition/Module_1_Face_Recognition/haarcascade_eye.xml')\n"
      ],
      "execution_count": 5,
      "outputs": []
    },
    {
      "cell_type": "code",
      "metadata": {
        "id": "GwMMfkZsNAkd"
      },
      "source": [
        "def detect(gray, frame):\n",
        "    ''' gray : gray scale image,\n",
        "        frame : colored image\n",
        "    '''\n",
        "\n",
        "    # returns : upper left point, width, height // # by experiment, 1.3 and 5 are quite good parameter \n",
        "    faces = face_casecade.detectMultiScale(gray, # image\n",
        "                                           1.3, # scaling factor : kernel size increased by 1.3\n",
        "                                           5)   # minimum number of neighbor : neighbor number of detected // at least 5 zone of pixels to be accepted \n",
        "    \n",
        "    \n",
        "    for (x,y, w, h) in faces:\n",
        "        cv2.rectangle(frame,        # colored image : draw on the color image.\n",
        "                      (x,y),        # coordinate\n",
        "                      (x+w, y+h),   # coordinate of lower right\n",
        "                      (255,0,0),    # red : draw rectagle with red\n",
        "                      2)            # thickness of line \n",
        "        \n",
        "        # for cascade method.\n",
        "        roi_gray = gray[y:y+h, x:x+w]\n",
        "        \n",
        "        # for real picture\n",
        "        roi_color = frame[y:y+h, x:x+w]\n",
        "        \n",
        "        # 얼굴안에 eye가 있을테니, 논리적으로 맞아\n",
        "        eyes = eye_casecade.detectMultiScale(roi_gray, # image\n",
        "                                        1.1, # scaling factor : kernel size increased by 1.1\n",
        "                                        3)\n",
        "        \n",
        "        # rectangle for eye\n",
        "        for (ex,ey, ew, eh) in eyes:\n",
        "            cv2.rectangle(roi_color, (ex,ey), (ex+ew, ey+eh),(0,255,0),2) # draw with green\n",
        "\n",
        "\n",
        "    return frame\n",
        "\n",
        "\n"
      ],
      "execution_count": 7,
      "outputs": []
    },
    {
      "cell_type": "code",
      "metadata": {
        "colab": {
          "base_uri": "https://localhost:8080/",
          "height": 224
        },
        "id": "oaaVCkyj4kLl",
        "outputId": "ae87bea2-3b15-4b43-c207-d1b071c91109"
      },
      "source": [
        "# face recognition with webcam\n",
        "video_capture = cv2.VideoCapture(0) # 0 : webcam on the computer, # 1: webcam from some device\n",
        "\n",
        "while True:\n",
        "    _, frame = video_capture.read()\n",
        "    gray = cv2.cvtColor(frame, cv2.COLOR_BGR2GRAY) # convert color from color to GRAY\n",
        "    canvas = detect(gray, frame)\n",
        "    cv2.imshow('Video', canvas)\n",
        "    if cv2.waitKey(1) & 0xFF == ord(\"q\"):\n",
        "        break # if you press q on the keyboard\n"
      ],
      "execution_count": 8,
      "outputs": [
        {
          "output_type": "error",
          "ename": "error",
          "evalue": "ignored",
          "traceback": [
            "\u001b[0;31m---------------------------------------------------------------------------\u001b[0m",
            "\u001b[0;31merror\u001b[0m                                     Traceback (most recent call last)",
            "\u001b[0;32m<ipython-input-8-0a133e33c778>\u001b[0m in \u001b[0;36m<module>\u001b[0;34m()\u001b[0m\n\u001b[1;32m      4\u001b[0m \u001b[0;32mwhile\u001b[0m \u001b[0;32mTrue\u001b[0m\u001b[0;34m:\u001b[0m\u001b[0;34m\u001b[0m\u001b[0;34m\u001b[0m\u001b[0m\n\u001b[1;32m      5\u001b[0m     \u001b[0m_\u001b[0m\u001b[0;34m,\u001b[0m \u001b[0mframe\u001b[0m \u001b[0;34m=\u001b[0m \u001b[0mvideo_capture\u001b[0m\u001b[0;34m.\u001b[0m\u001b[0mread\u001b[0m\u001b[0;34m(\u001b[0m\u001b[0;34m)\u001b[0m\u001b[0;34m\u001b[0m\u001b[0;34m\u001b[0m\u001b[0m\n\u001b[0;32m----> 6\u001b[0;31m     \u001b[0mgray\u001b[0m \u001b[0;34m=\u001b[0m \u001b[0mcv2\u001b[0m\u001b[0;34m.\u001b[0m\u001b[0mcvtColor\u001b[0m\u001b[0;34m(\u001b[0m\u001b[0mframe\u001b[0m\u001b[0;34m,\u001b[0m \u001b[0mcv2\u001b[0m\u001b[0;34m.\u001b[0m\u001b[0mCOLOR_BGR2GRAY\u001b[0m\u001b[0;34m)\u001b[0m \u001b[0;31m# convert color from color to GRAY\u001b[0m\u001b[0;34m\u001b[0m\u001b[0;34m\u001b[0m\u001b[0m\n\u001b[0m\u001b[1;32m      7\u001b[0m     \u001b[0mcanvas\u001b[0m \u001b[0;34m=\u001b[0m \u001b[0mdetect\u001b[0m\u001b[0;34m(\u001b[0m\u001b[0mgray\u001b[0m\u001b[0;34m,\u001b[0m \u001b[0mframe\u001b[0m\u001b[0;34m)\u001b[0m\u001b[0;34m\u001b[0m\u001b[0;34m\u001b[0m\u001b[0m\n\u001b[1;32m      8\u001b[0m     \u001b[0mcv2\u001b[0m\u001b[0;34m.\u001b[0m\u001b[0mimshow\u001b[0m\u001b[0;34m(\u001b[0m\u001b[0;34m'Video'\u001b[0m\u001b[0;34m,\u001b[0m \u001b[0mcanvas\u001b[0m\u001b[0;34m)\u001b[0m\u001b[0;34m\u001b[0m\u001b[0;34m\u001b[0m\u001b[0m\n",
            "\u001b[0;31merror\u001b[0m: OpenCV(4.1.2) /io/opencv/modules/imgproc/src/color.cpp:182: error: (-215:Assertion failed) !_src.empty() in function 'cvtColor'\n"
          ]
        }
      ]
    },
    {
      "cell_type": "code",
      "metadata": {
        "id": "gu8-AS8OGsun"
      },
      "source": [
        "video_capture.release() # turn off the webcam\n",
        "\n",
        "cv2.destroyAllWindows()"
      ],
      "execution_count": null,
      "outputs": []
    },
    {
      "cell_type": "code",
      "metadata": {
        "id": "M-p7hXDaGsxx"
      },
      "source": [
        ""
      ],
      "execution_count": null,
      "outputs": []
    }
  ]
}